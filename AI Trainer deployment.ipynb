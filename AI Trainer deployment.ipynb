{
 "cells": [
  {
   "cell_type": "code",
   "execution_count": 252,
   "id": "00585b9b",
   "metadata": {},
   "outputs": [],
   "source": [
    "import cv2\n",
    "import numpy as np\n",
    "import time\n",
    "import mediapipe as mp\n",
    "from flask import Flask,render_template,Response"
   ]
  },
  {
   "cell_type": "code",
   "execution_count": null,
   "id": "434deb76",
   "metadata": {},
   "outputs": [],
   "source": []
  },
  {
   "cell_type": "code",
   "execution_count": 253,
   "id": "3b8207bf",
   "metadata": {},
   "outputs": [],
   "source": [
    "app=Flask(__name__,template_folder='index.html')"
   ]
  },
  {
   "cell_type": "code",
   "execution_count": 254,
   "id": "a33d7dcc",
   "metadata": {},
   "outputs": [],
   "source": [
    "mp_drawing = mp.solutions.drawing_utils\n",
    "mp_pose = mp.solutions.pose"
   ]
  },
  {
   "cell_type": "code",
   "execution_count": 255,
   "id": "de6ea91e",
   "metadata": {},
   "outputs": [],
   "source": [
    "#cap = cv2.VideoCapture('D:/AI Trainer/pexels-mart-production-8837221.mp4')"
   ]
  },
  {
   "cell_type": "code",
   "execution_count": null,
   "id": "64522c12",
   "metadata": {},
   "outputs": [],
   "source": []
  },
  {
   "cell_type": "code",
   "execution_count": 256,
   "id": "3560fadd",
   "metadata": {},
   "outputs": [],
   "source": [
    "cap = cv2.VideoCapture(0)"
   ]
  },
  {
   "cell_type": "code",
   "execution_count": null,
   "id": "c82d5228",
   "metadata": {},
   "outputs": [],
   "source": []
  },
  {
   "cell_type": "code",
   "execution_count": 257,
   "id": "15e681d4",
   "metadata": {},
   "outputs": [],
   "source": [
    "def calculate_angle(a,b,c):\n",
    "    a=np.array(a)#first\n",
    "    b=np.array(b)#mid\n",
    "    c=np.array(c)#end\n",
    "    \n",
    "    radians = np.arctan2(c[1]-b[1], c[0]-b[0]) - np.arctan2(a[1]-b[1], a[0]-b[0])\n",
    "    angle = np.abs(radians*180.0/np.pi)\n",
    "    \n",
    "    \n",
    "    if angle >180.0:\n",
    "        angle = 360-angle\n",
    "        \n",
    "    return angle \n",
    "    "
   ]
  },
  {
   "cell_type": "code",
   "execution_count": null,
   "id": "090fc97c",
   "metadata": {},
   "outputs": [],
   "source": []
  },
  {
   "cell_type": "code",
   "execution_count": null,
   "id": "d1a16daa",
   "metadata": {},
   "outputs": [],
   "source": []
  },
  {
   "cell_type": "code",
   "execution_count": 258,
   "id": "96b9fc35",
   "metadata": {},
   "outputs": [],
   "source": [
    "\n",
    "def generate_frames():\n",
    "        \n",
    "    #Squat counter\n",
    "    counter=0\n",
    "    stage=None\n",
    "\n",
    "\n",
    "    #Set up mediapipe instance\n",
    "    with mp_pose.Pose(min_detection_confidence=0.5, min_tracking_confidence=0.5) as pose:\n",
    "        while True:\n",
    "            success,frame = cap.read()\n",
    "            #frame= cv2.resize(frame,(1200,1000))\n",
    "            \n",
    "            # Recolor image to RGB\n",
    "            image = cv2.cvtColor(frame, cv2.COLOR_BGR2RGB)\n",
    "            image.flags.writeable = False\n",
    "            \n",
    "            # Make detection\n",
    "            results = pose.process(image)\n",
    "            \n",
    "            # Recolor back to BGR\n",
    "            image.flags.writeable = True\n",
    "            image = cv2.cvtColor(image, cv2.COLOR_RGB2BGR)\n",
    "            \n",
    "            \n",
    "            # Extract landmarks\n",
    "            try:\n",
    "                landmarks = results.pose_landmarks.landmark\n",
    "                \n",
    "                #Get coordinates\n",
    "                hip = [landmarks[mp_pose.PoseLandmark.RIGHT_HIP.value].x,landmarks[mp_pose.PoseLandmark.RIGHT_HIP.value].y]\n",
    "                knee = [landmarks[mp_pose.PoseLandmark.RIGHT_KNEE.value].x,landmarks[mp_pose.PoseLandmark.RIGHT_KNEE.value].y]\n",
    "                ankle = [landmarks[mp_pose.PoseLandmark.RIGHT_ANKLE.value].x,landmarks[mp_pose.PoseLandmark.RIGHT_ANKLE.value].y]\n",
    "                \n",
    "                #calculate angle\n",
    "                angle = calculate_angle(hip,knee,ankle)\n",
    "                \n",
    "                # Visualize angle\n",
    "                cv2.putText(image, str(angle), \n",
    "                            tuple(np.multiply(knee, [1288, 700]).astype(int)), \n",
    "                            cv2.FONT_HERSHEY_SIMPLEX, 0.5, (255, 255, 255), 2, cv2.LINE_AA\n",
    "                                    )\n",
    "                \n",
    "                #Squat counter logic\n",
    "                if angle<130:\n",
    "                    stage= \"Down\"\n",
    "                if angle>175 and stage==\"Down\":\n",
    "                    stage=\"Up\"\n",
    "                    counter+=1\n",
    "                    print(counter)\n",
    "                \n",
    "            except:\n",
    "                pass\n",
    "            \n",
    "            \n",
    "            #Render curl counter\n",
    "            #setup status box\n",
    "            cv2.rectangle(image,(0,0),(225,73),(245,117,16),-1)\n",
    "            \n",
    "            #Rep data\n",
    "            cv2.putText(image, 'REPS', (15,12), cv2.FONT_HERSHEY_SIMPLEX,0.5, (0,0,0), 1, cv2.LINE_AA)\n",
    "            cv2.putText(image, str(counter), (10,60), cv2.FONT_HERSHEY_SIMPLEX, 2,(0,0,0), 1, cv2.LINE_AA)\n",
    "            \n",
    "            #stage data\n",
    "            cv2.putText(image, 'STAGE', (65,12), cv2.FONT_HERSHEY_SIMPLEX,0.5, (0,0,0), 1, cv2.LINE_AA)\n",
    "            cv2.putText(image, stage, (60,60), cv2.FONT_HERSHEY_SIMPLEX, 2,(0,0,0), 1, cv2.LINE_AA)\n",
    "            \n",
    "            # Render detections\n",
    "            mp_drawing.draw_landmarks(image, results.pose_landmarks, mp_pose.POSE_CONNECTIONS,\n",
    "                                mp_drawing.DrawingSpec(color=(245,117,66), thickness=2, circle_radius=2), \n",
    "                                    mp_drawing.DrawingSpec(color=(245,66,230), thickness=2, circle_radius=2) )\n",
    "            \n",
    "            if not success:\n",
    "                break\n",
    "            else:\n",
    "                ret,buffer=cv2.imencode('.jpg',image)\n",
    "                image = buffer.tobytes()\n",
    "                \n",
    "            yield(b'--frame\\r\\n'\n",
    "                   b'Content-Type: image/jpeg\\r\\n\\r\\n' + image + b'\\r\\n')                        \n",
    "            \n",
    "            if cv2.waitKey(1) == ord('q'):\n",
    "                break\n",
    "\n",
    "\n",
    "\n",
    "     "
   ]
  },
  {
   "cell_type": "code",
   "execution_count": 259,
   "id": "3100d2f8",
   "metadata": {},
   "outputs": [],
   "source": [
    "@app.route('/')\n",
    "def index():\n",
    "    return render_template('index.html')\n"
   ]
  },
  {
   "cell_type": "code",
   "execution_count": 260,
   "id": "4380e1db",
   "metadata": {},
   "outputs": [],
   "source": [
    "@app.route('/video')\n",
    "def video():\n",
    "    return Response(generate_frames(),mimetype='multipart/x-mixed-replace; boundary=frame')"
   ]
  },
  {
   "cell_type": "code",
   "execution_count": 261,
   "id": "0c676f71",
   "metadata": {},
   "outputs": [
    {
     "name": "stdout",
     "output_type": "stream",
     "text": [
      " * Serving Flask app \"__main__\" (lazy loading)\n",
      " * Environment: production\n",
      "   WARNING: This is a development server. Do not use it in a production deployment.\n",
      "   Use a production WSGI server instead.\n",
      " * Debug mode: on\n"
     ]
    },
    {
     "name": "stderr",
     "output_type": "stream",
     "text": [
      " * Running on http://127.0.0.1:5000/ (Press CTRL+C to quit)\n",
      "127.0.0.1 - - [21/Dec/2021 19:45:42] \"\u001b[37mGET / HTTP/1.1\u001b[0m\" 200 -\n",
      "127.0.0.1 - - [21/Dec/2021 19:45:43] \"\u001b[37mGET /video HTTP/1.1\u001b[0m\" 200 -\n"
     ]
    },
    {
     "name": "stdout",
     "output_type": "stream",
     "text": [
      "1\n",
      "2\n",
      "3\n",
      "4\n",
      "5\n",
      "6\n",
      "7\n",
      "8\n",
      "9\n",
      "10\n"
     ]
    }
   ],
   "source": [
    "if __name__==\"__main__\":\n",
    "    app.run(debug=True,use_reloader=False)\n",
    "\n"
   ]
  },
  {
   "cell_type": "code",
   "execution_count": 262,
   "id": "13f4c337",
   "metadata": {},
   "outputs": [],
   "source": [
    "cap.release()\n",
    "cv2.destroyAllWindows() "
   ]
  },
  {
   "cell_type": "code",
   "execution_count": null,
   "id": "20716d18",
   "metadata": {},
   "outputs": [],
   "source": []
  }
 ],
 "metadata": {
  "kernelspec": {
   "display_name": "Python 3",
   "language": "python",
   "name": "python3"
  },
  "language_info": {
   "codemirror_mode": {
    "name": "ipython",
    "version": 3
   },
   "file_extension": ".py",
   "mimetype": "text/x-python",
   "name": "python",
   "nbconvert_exporter": "python",
   "pygments_lexer": "ipython3",
   "version": "3.8.8"
  }
 },
 "nbformat": 4,
 "nbformat_minor": 5
}
